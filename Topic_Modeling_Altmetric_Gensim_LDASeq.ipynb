version https://git-lfs.github.com/spec/v1
oid sha256:47cd6681ab057eb512aa68c4eaa97438c14095f1066239e14ee6ad95e5c08bec
size 438450
